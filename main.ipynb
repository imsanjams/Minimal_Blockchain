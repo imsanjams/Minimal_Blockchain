{
 "cells": [
  {
   "cell_type": "markdown",
   "metadata": {},
   "source": [
    "# Minimal Blockchain in Python"
   ]
  },
  {
   "cell_type": "markdown",
   "metadata": {},
   "source": [
    "In this notebook, I will demonstrate how you can build a minimal private blockchain with essential operations such as \n",
    "\n",
    "a) creating a blockchain, \n",
    "b) verifying a chain, \n",
    "c) forking, and \n",
    "d) comparing chains."
   ]
  },
  {
   "cell_type": "code",
   "execution_count": 1,
   "metadata": {
    "ExecuteTime": {
     "end_time": "2019-07-08T02:16:25.129422Z",
     "start_time": "2019-07-08T02:16:25.125993Z"
    }
   },
   "outputs": [],
   "source": [
    "import copy # fork a chain\n",
    "import datetime # get real time for timestamps\n",
    "import hashlib # hash"
   ]
  },
  {
   "cell_type": "markdown",
   "metadata": {},
   "source": [
    "## 1. Define classes"
   ]
  },
  {
   "cell_type": "code",
   "execution_count": 2,
   "metadata": {
    "ExecuteTime": {
     "end_time": "2019-07-08T02:16:42.235901Z",
     "start_time": "2019-07-08T02:16:42.222441Z"
    }
   },
   "outputs": [],
   "source": [
    "class MinimalChain():\n",
    "    def __init__(self): # initialize when creating a chain\n",
    "        self.blocks = [self.get_genesis_block()]\n",
    "    \n",
    "    def __eq__(self, other):\n",
    "        if isinstance(other, self.__class__):\n",
    "            return self.__dict__ == other.__dict__\n",
    "        else:\n",
    "            return False\n",
    "    \n",
    "    def get_genesis_block(self): \n",
    "        return MinimalBlock(0, \n",
    "                            datetime.datetime.utcnow(), \n",
    "                            'Genesis', \n",
    "                            'arbitrary')\n",
    "    \n",
    "    def add_block(self, data):\n",
    "        self.blocks.append(MinimalBlock(len(self.blocks), \n",
    "                                        datetime.datetime.utcnow(), \n",
    "                                        data, \n",
    "                                        self.blocks[len(self.blocks)-1].hash))\n",
    "    \n",
    "    def get_chain_size(self): # exclude genesis block\n",
    "        return len(self.blocks)-1\n",
    "    \n",
    "    def verify(self, verbose=True): \n",
    "        flag = True\n",
    "        for i in range(1,len(self.blocks)):\n",
    "            if not self.blocks[i].verify(): # assume Genesis block integrity\n",
    "                flag = False\n",
    "                if verbose:\n",
    "                    print(f'Wrong data type(s) at block {i}.')\n",
    "            if self.blocks[i].index != i:\n",
    "                flag = False\n",
    "                if verbose:\n",
    "                    print(f'Wrong block index at block {i}.')\n",
    "            if self.blocks[i-1].hash != self.blocks[i].previous_hash:\n",
    "                flag = False\n",
    "                if verbose:\n",
    "                    print(f'Wrong previous hash at block {i}.')\n",
    "            if self.blocks[i].hash != self.blocks[i].hashing():\n",
    "                flag = False\n",
    "                if verbose:\n",
    "                    print(f'Wrong hash at block {i}.')\n",
    "            if self.blocks[i-1].timestamp >= self.blocks[i].timestamp:\n",
    "                flag = False\n",
    "                if verbose:\n",
    "                    print(f'Backdating at block {i}.')\n",
    "        return flag\n",
    "    \n",
    "    def fork(self, head='latest'):\n",
    "        if head in ['latest', 'whole', 'all']:\n",
    "            return copy.deepcopy(self) # deepcopy since they are mutable\n",
    "        else:\n",
    "            c = copy.deepcopy(self)\n",
    "            c.blocks = c.blocks[0:head+1]\n",
    "            return c\n",
    "    \n",
    "    def get_root(self, chain_2):\n",
    "        min_chain_size = min(self.get_chain_size(), chain_2.get_chain_size())\n",
    "        for i in range(1,min_chain_size+1):\n",
    "            if self.blocks[i] != chain_2.blocks[i]:\n",
    "                return self.fork(i-1)\n",
    "        return self.fork(min_chain_size)\n",
    "    "
   ]
  },
  {
   "cell_type": "code",
   "execution_count": 3,
   "metadata": {
    "ExecuteTime": {
     "end_time": "2019-07-08T02:16:42.998711Z",
     "start_time": "2019-07-08T02:16:42.990987Z"
    }
   },
   "outputs": [],
   "source": [
    "class MinimalBlock():\n",
    "    def __init__(self, index, timestamp, data, previous_hash):\n",
    "        self.index = index\n",
    "        self.timestamp = timestamp\n",
    "        self.data = data\n",
    "        self.previous_hash = previous_hash\n",
    "        self.hash = self.hashing()\n",
    "    \n",
    "    def __eq__(self, other):\n",
    "        if isinstance(other, self.__class__):\n",
    "            return self.__dict__ == other.__dict__\n",
    "        else:\n",
    "            return False\n",
    "    \n",
    "    def hashing(self):\n",
    "        key = hashlib.sha256()\n",
    "        key.update(str(self.index).encode('utf-8'))\n",
    "        key.update(str(self.timestamp).encode('utf-8'))\n",
    "        key.update(str(self.data).encode('utf-8'))\n",
    "        key.update(str(self.previous_hash).encode('utf-8'))\n",
    "        return key.hexdigest()\n",
    "    \n",
    "    def verify(self): # check data types of all info in a block\n",
    "        instances = [self.index, self.timestamp, self.previous_hash, self.hash]\n",
    "        types = [int, datetime.datetime, str, str]\n",
    "        if sum(map(lambda inst_, type_: isinstance(inst_, type_), instances, types)) == len(instances):\n",
    "            return True\n",
    "        else:\n",
    "            return False"
   ]
  },
  {
   "cell_type": "markdown",
   "metadata": {},
   "source": [
    "## 2. Testing"
   ]
  },
  {
   "cell_type": "code",
   "execution_count": 4,
   "metadata": {
    "ExecuteTime": {
     "end_time": "2019-07-08T02:16:43.847119Z",
     "start_time": "2019-07-08T02:16:43.844348Z"
    }
   },
   "outputs": [],
   "source": [
    "c = MinimalChain() # Start a chain\n",
    "for i in range(1,20+1):\n",
    "    c.add_block(f'This is block {i} of my first chain.')"
   ]
  },
  {
   "cell_type": "code",
   "execution_count": 5,
   "metadata": {
    "ExecuteTime": {
     "end_time": "2019-07-08T02:16:45.582222Z",
     "start_time": "2019-07-08T02:16:45.578763Z"
    }
   },
   "outputs": [
    {
     "name": "stdout",
     "output_type": "stream",
     "text": [
      "2019-07-08 02:16:43.845600\n",
      "This is block 7 of my first chain.\n",
      "4d6fb1320bc8f58917060caf445c651c6dabc2f7df18fbb5c4908e1cf5453c97\n"
     ]
    }
   ],
   "source": [
    "print(c.blocks[3].timestamp)\n",
    "print(c.blocks[7].data)\n",
    "print(c.blocks[9].hash)\n"
   ]
  },
  {
   "cell_type": "code",
   "execution_count": 6,
   "metadata": {
    "ExecuteTime": {
     "end_time": "2019-07-08T02:16:46.278852Z",
     "start_time": "2019-07-08T02:16:46.275505Z"
    }
   },
   "outputs": [
    {
     "name": "stdout",
     "output_type": "stream",
     "text": [
      "20\n",
      "True\n"
     ]
    }
   ],
   "source": [
    "print(c.get_chain_size())\n",
    "print(c.verify())"
   ]
  },
  {
   "cell_type": "code",
   "execution_count": 7,
   "metadata": {
    "ExecuteTime": {
     "end_time": "2019-07-08T02:16:46.703246Z",
     "start_time": "2019-07-08T02:16:46.699971Z"
    }
   },
   "outputs": [
    {
     "name": "stdout",
     "output_type": "stream",
     "text": [
      "True\n"
     ]
    }
   ],
   "source": [
    "c_forked = c.fork('latest')\n",
    "print(c == c_forked)"
   ]
  },
  {
   "cell_type": "code",
   "execution_count": 8,
   "metadata": {
    "ExecuteTime": {
     "end_time": "2019-07-08T02:16:47.076751Z",
     "start_time": "2019-07-08T02:16:47.073328Z"
    }
   },
   "outputs": [
    {
     "name": "stdout",
     "output_type": "stream",
     "text": [
      "20 21\n"
     ]
    }
   ],
   "source": [
    "c_forked.add_block('New block for forked chain!')\n",
    "print(c.get_chain_size(), c_forked.get_chain_size())"
   ]
  },
  {
   "cell_type": "markdown",
   "metadata": {},
   "source": [
    "## 3. Conflict Testing"
   ]
  },
  {
   "cell_type": "code",
   "execution_count": 9,
   "metadata": {
    "ExecuteTime": {
     "end_time": "2019-07-08T02:16:47.930832Z",
     "start_time": "2019-07-08T02:16:47.921603Z"
    }
   },
   "outputs": [
    {
     "name": "stdout",
     "output_type": "stream",
     "text": [
      "Wrong block index at block 9.\n",
      "Wrong hash at block 9.\n"
     ]
    },
    {
     "data": {
      "text/plain": [
       "False"
      ]
     },
     "execution_count": 9,
     "metadata": {},
     "output_type": "execute_result"
    }
   ],
   "source": [
    "c_forked = c.fork('latest')\n",
    "c_forked.blocks[9].index = -9\n",
    "c_forked.verify()"
   ]
  },
  {
   "cell_type": "code",
   "execution_count": 10,
   "metadata": {
    "ExecuteTime": {
     "end_time": "2019-07-08T02:16:49.119862Z",
     "start_time": "2019-07-08T02:16:49.114159Z"
    }
   },
   "outputs": [
    {
     "name": "stdout",
     "output_type": "stream",
     "text": [
      "Wrong hash at block 16.\n",
      "Backdating at block 16.\n"
     ]
    },
    {
     "data": {
      "text/plain": [
       "False"
      ]
     },
     "execution_count": 10,
     "metadata": {},
     "output_type": "execute_result"
    }
   ],
   "source": [
    "c_forked = c.fork('latest')\n",
    "c_forked.blocks[16].timestamp = datetime.datetime(2000, 1, 1, 0, 0, 0, 0)\n",
    "c_forked.verify()"
   ]
  },
  {
   "cell_type": "code",
   "execution_count": 11,
   "metadata": {
    "ExecuteTime": {
     "end_time": "2019-07-08T02:16:49.519792Z",
     "start_time": "2019-07-08T02:16:49.514132Z"
    }
   },
   "outputs": [
    {
     "name": "stdout",
     "output_type": "stream",
     "text": [
      "Wrong previous hash at block 5.\n",
      "Wrong hash at block 5.\n"
     ]
    },
    {
     "data": {
      "text/plain": [
       "False"
      ]
     },
     "execution_count": 11,
     "metadata": {},
     "output_type": "execute_result"
    }
   ],
   "source": [
    "c_forked = c.fork('latest')\n",
    "c_forked.blocks[5].previous_hash = c_forked.blocks[1].hash\n",
    "c_forked.verify()"
   ]
  }
 ],
 "metadata": {
  "kernelspec": {
   "display_name": "Python 3",
   "language": "python",
   "name": "python3"
  },
  "language_info": {
   "codemirror_mode": {
    "name": "ipython",
    "version": 3
   },
   "file_extension": ".py",
   "mimetype": "text/x-python",
   "name": "python",
   "nbconvert_exporter": "python",
   "pygments_lexer": "ipython3",
   "version": "3.7.3"
  },
  "varInspector": {
   "cols": {
    "lenName": 16,
    "lenType": 16,
    "lenVar": 40
   },
   "kernels_config": {
    "python": {
     "delete_cmd_postfix": "",
     "delete_cmd_prefix": "del ",
     "library": "var_list.py",
     "varRefreshCmd": "print(var_dic_list())"
    },
    "r": {
     "delete_cmd_postfix": ") ",
     "delete_cmd_prefix": "rm(",
     "library": "var_list.r",
     "varRefreshCmd": "cat(var_dic_list()) "
    }
   },
   "types_to_exclude": [
    "module",
    "function",
    "builtin_function_or_method",
    "instance",
    "_Feature"
   ],
   "window_display": false
  }
 },
 "nbformat": 4,
 "nbformat_minor": 2
}
